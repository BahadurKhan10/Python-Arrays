{
 "cells": [
  {
   "cell_type": "code",
   "execution_count": 26,
   "metadata": {},
   "outputs": [
    {
     "name": "stdout",
     "output_type": "stream",
     "text": [
      "14\n",
      "WhatsApp\n",
      "st\n",
      "Welcome Bahadur Khan \n",
      "Hello World\n",
      "17\n",
      "14\n"
     ]
    }
   ],
   "source": [
    "class StringOP:\n",
    "    def __init__(self, data):\n",
    "        self.data = data\n",
    "        x=len(data)\n",
    "        \n",
    "    def StrLength(self):\n",
    "        count = 0\n",
    "        for i in self.data:\n",
    "            count +=1\n",
    "        return count\n",
    "    \n",
    "    def StrConcat(self, string1, string2):\n",
    "        newStr = ''\n",
    "        for i in string1+string2:\n",
    "            newStr+=i\n",
    "        return newStr\n",
    "\n",
    "    def SubString(self, text, start, end):\n",
    "        subStr = ''\n",
    "        for i in range(start, end+1):\n",
    "            subStr += text[i]\n",
    "        return subStr\n",
    "    \n",
    "    def InsertStr(self, data, text, pos):\n",
    "        newStr = ''\n",
    "        for i in range(len(data)):\n",
    "            if i == pos:\n",
    "                newStr = self.StrConcat(newStr, text)\n",
    "                continue\n",
    "            newStr+=data[i]\n",
    "        return newStr\n",
    "            \n",
    "    def DeleteStr(self, data, pos, length):\n",
    "        newStr = ''\n",
    "        for i in range(len(data)):\n",
    "            if i >= pos and i < pos+length:\n",
    "                continue\n",
    "            newStr+=data[i]\n",
    "        return newStr\n",
    "    \n",
    "    def Naive(self, data, pattern):\n",
    "        x=len(data)\n",
    "        for i in range(0, x):\n",
    "            s=data[i:i+len(pattern)]\n",
    "            if s== pattern:\n",
    "                return i\n",
    "        return -1\n",
    "\n",
    "\n",
    "#Driver Code    \n",
    "sc = StringOP('Python is Best')\n",
    "print(sc.StrLength())\n",
    "print(sc.StrConcat('Whats', 'App'))\n",
    "print(sc.SubString('Best', 2, 3))\n",
    "print(sc.InsertStr('Welcome Bahadur ', ' Khan ', 15))\n",
    "print(sc.DeleteStr('Hello World', 14,11))\n",
    "print(sc.Naive('The Process of Photosynthesis is ......', 'oto'))\n",
    "print(sc.StrLength())\n",
    "\n"
   ]
  }
 ],
 "metadata": {
  "kernelspec": {
   "display_name": "Python 3",
   "language": "python",
   "name": "python3"
  },
  "language_info": {
   "codemirror_mode": {
    "name": "ipython",
    "version": 3
   },
   "file_extension": ".py",
   "mimetype": "text/x-python",
   "name": "python",
   "nbconvert_exporter": "python",
   "pygments_lexer": "ipython3",
   "version": "3.7.6"
  }
 },
 "nbformat": 4,
 "nbformat_minor": 4
}
